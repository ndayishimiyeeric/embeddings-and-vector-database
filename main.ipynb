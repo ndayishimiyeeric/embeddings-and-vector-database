{
 "cells": [
  {
   "cell_type": "code",
   "execution_count": 1,
   "id": "initial_id",
   "metadata": {
    "ExecuteTime": {
     "end_time": "2023-12-27T18:55:53.624647657Z",
     "start_time": "2023-12-27T18:55:53.491917682Z"
    }
   },
   "outputs": [],
   "source": [
    "from settings import config, BASE_DIR"
   ]
  },
  {
   "cell_type": "code",
   "execution_count": 2,
   "id": "78a3c5e875dcf036",
   "metadata": {
    "ExecuteTime": {
     "end_time": "2023-12-27T18:56:00.913371154Z",
     "start_time": "2023-12-27T18:56:00.595438946Z"
    },
    "collapsed": false
   },
   "outputs": [
    {
     "data": {
      "text/plain": [
       "True"
      ]
     },
     "execution_count": 2,
     "metadata": {},
     "output_type": "execute_result"
    }
   ],
   "source": [
    "# get environment variables\n",
    "\n",
    "OPENAI_API_KEY = config('OPENAI_API_KEY', default=None)\n",
    "QDRANT_API_KEY = config('QDRANT_API_KEY', default=None)\n",
    "QDRANT_CLUSTER_URL = config('QDRANT_CLUSTER_URL', default=None)\n",
    "\n",
    "OPENAI_API_KEY is not None and QDRANT_API_KEY is not None and QDRANT_CLUSTER_URL is not None"
   ]
  },
  {
   "cell_type": "code",
   "execution_count": 3,
   "id": "519b48105a9a37fd",
   "metadata": {
    "ExecuteTime": {
     "end_time": "2023-12-27T21:11:14.989836262Z",
     "start_time": "2023-12-27T21:11:14.933775495Z"
    },
    "collapsed": false
   },
   "outputs": [
    {
     "data": {
      "text/plain": [
       "True"
      ]
     },
     "execution_count": 3,
     "metadata": {},
     "output_type": "execute_result"
    }
   ],
   "source": [
    "doc = BASE_DIR / \"data\" / \"story.txt\"\n",
    "doc.exists()"
   ]
  },
  {
   "cell_type": "code",
   "execution_count": 4,
   "id": "b25a06af305f417e",
   "metadata": {
    "ExecuteTime": {
     "end_time": "2023-12-27T20:56:45.793683344Z",
     "start_time": "2023-12-27T20:56:45.741228837Z"
    },
    "collapsed": false
   },
   "outputs": [],
   "source": [
    "from langchain.embeddings.openai import OpenAIEmbeddings\n",
    "from langchain.text_splitter import CharacterTextSplitter\n",
    "from langchain.vectorstores import Qdrant\n",
    "import qdrant_client\n",
    "from qdrant_client.http import models"
   ]
  },
  {
   "cell_type": "code",
   "execution_count": 5,
   "id": "ce4398eeb2b3b2f1",
   "metadata": {
    "ExecuteTime": {
     "end_time": "2023-12-27T20:48:09.731132497Z",
     "start_time": "2023-12-27T20:48:09.633413180Z"
    },
    "collapsed": false
   },
   "outputs": [],
   "source": [
    "# create a qdrant client\n",
    "\n",
    "qdrant = qdrant_client.QdrantClient(\n",
    "    url=QDRANT_CLUSTER_URL, \n",
    "    api_key=QDRANT_API_KEY\n",
    ")"
   ]
  },
  {
   "cell_type": "code",
   "execution_count": 7,
   "id": "419931b11789289f",
   "metadata": {
    "ExecuteTime": {
     "end_time": "2023-12-27T20:48:13.400914580Z",
     "start_time": "2023-12-27T20:48:12.868119166Z"
    },
    "collapsed": false
   },
   "outputs": [
    {
     "data": {
      "text/plain": [
       "True"
      ]
     },
     "execution_count": 7,
     "metadata": {},
     "output_type": "execute_result"
    }
   ],
   "source": [
    "# create a collection\n",
    "\n",
    "vector_config = models.VectorParams(\n",
    "    size=1536, # for openai embeddings \n",
    "    distance=models.Distance.COSINE\n",
    ")\n",
    "\n",
    "qdrant.create_collection(\n",
    "    collection_name=\"my_collection\",\n",
    "    vectors_config=vector_config,\n",
    ")"
   ]
  },
  {
   "cell_type": "code",
   "execution_count": 11,
   "id": "7524739bb326627d",
   "metadata": {
    "ExecuteTime": {
     "end_time": "2023-12-27T20:51:46.612663150Z",
     "start_time": "2023-12-27T20:51:46.285133667Z"
    },
    "collapsed": false
   },
   "outputs": [
    {
     "data": {
      "text/plain": [
       "CollectionInfo(status=<CollectionStatus.GREEN: 'green'>, optimizer_status=<OptimizersStatusOneOf.OK: 'ok'>, vectors_count=0, indexed_vectors_count=0, points_count=0, segments_count=2, config=CollectionConfig(params=CollectionParams(vectors=VectorParams(size=1536, distance=<Distance.COSINE: 'Cosine'>, hnsw_config=None, quantization_config=None, on_disk=None), shard_number=1, sharding_method=None, replication_factor=1, write_consistency_factor=1, read_fan_out_factor=None, on_disk_payload=True, sparse_vectors=None), hnsw_config=HnswConfig(m=16, ef_construct=100, full_scan_threshold=10000, max_indexing_threads=0, on_disk=False, payload_m=None), optimizer_config=OptimizersConfig(deleted_threshold=0.2, vacuum_min_vector_number=1000, default_segment_number=0, max_segment_size=None, memmap_threshold=None, indexing_threshold=20000, flush_interval_sec=5, max_optimization_threads=1), wal_config=WalConfig(wal_capacity_mb=32, wal_segments_ahead=0), quantization_config=None), payload_schema={})"
      ]
     },
     "execution_count": 11,
     "metadata": {},
     "output_type": "execute_result"
    }
   ],
   "source": [
    "# get our collection info\n",
    "\n",
    "qdrant.get_collection(collection_name=\"my_collection\")"
   ]
  },
  {
   "cell_type": "code",
   "execution_count": 12,
   "id": "732be7e51c375901",
   "metadata": {
    "ExecuteTime": {
     "end_time": "2023-12-27T21:01:15.774816234Z",
     "start_time": "2023-12-27T21:01:15.238283040Z"
    },
    "collapsed": false
   },
   "outputs": [],
   "source": [
    "# create a vector store\n",
    "embeddings = OpenAIEmbeddings(openai_api_key=OPENAI_API_KEY)\n",
    "\n",
    "vector_store = Qdrant(\n",
    "    client=qdrant,\n",
    "    collection_name=\"my_collection\",\n",
    "    embeddings=embeddings,\n",
    ")"
   ]
  },
  {
   "cell_type": "code",
   "execution_count": 13,
   "id": "a3fb30233eb0049c",
   "metadata": {
    "ExecuteTime": {
     "end_time": "2023-12-27T21:15:20.029180180Z",
     "start_time": "2023-12-27T21:15:19.953592878Z"
    },
    "collapsed": false
   },
   "outputs": [
    {
     "name": "stdout",
     "output_type": "stream",
     "text": [
      "['Tonight. I call on the Senate to: Pass the Freedom to Vote Act. Pass the John Lewis Voting Rights Act. And while you’re at it, pass the Disclose Act so Americans can know who is funding our elections.\\nTonight, I’d like to honor someone who has dedicated his life to serve this country: Justice Stephen Breyer—an Army veteran, Constitutional scholar, and retiring Justice of the United States Supreme Court. Justice Breyer, thank you for your service.\\nOne of the most serious constitutional responsibilities a President has is nominating someone to serve on the United States Supreme Court.\\nAnd I did that 4 days ago, when I nominated Circuit Court of Appeals Judge Ketanji Brown Jackson. One of our nation’s top legal minds, who will continue Justice Breyer’s legacy of excellence.']\n"
     ]
    }
   ],
   "source": [
    "# add documents to the vector store\n",
    "\n",
    "# a function to split the text into chunks\n",
    "def split_text(text: str, chunk_size: int = 1000, chunk_overlap: int = 100) -> list[str]:\n",
    "    my_text_splitter = CharacterTextSplitter(\n",
    "        chunk_size=chunk_size,\n",
    "        chunk_overlap=chunk_overlap,\n",
    "        separator=\"\\n\",\n",
    "        length_function=len,\n",
    "    )\n",
    "    \n",
    "    chunks = my_text_splitter.split_text(text)\n",
    "    return chunks\n",
    "\n",
    "# read the text\n",
    "with open(doc, \"r\") as f:\n",
    "    raw_text = f.read()\n",
    "\n",
    "# split the text into chunks\n",
    "text_chunks = split_text(raw_text)\n",
    "print(text_chunks)"
   ]
  },
  {
   "cell_type": "code",
   "execution_count": 14,
   "id": "412d6265c885eb90",
   "metadata": {
    "ExecuteTime": {
     "end_time": "2023-12-27T21:23:01.695591361Z",
     "start_time": "2023-12-27T21:22:56.677001119Z"
    },
    "collapsed": false
   },
   "outputs": [
    {
     "data": {
      "text/plain": [
       "['c73f2a41920542b5b52e439cd1b9677a']"
      ]
     },
     "execution_count": 14,
     "metadata": {},
     "output_type": "execute_result"
    }
   ],
   "source": [
    "# add chunks to the vector store\n",
    "\n",
    "vector_store.add_texts(text_chunks)"
   ]
  },
  {
   "cell_type": "code",
   "execution_count": 15,
   "id": "e777dc05e72a509d",
   "metadata": {
    "ExecuteTime": {
     "end_time": "2023-12-27T21:26:12.152918845Z",
     "start_time": "2023-12-27T21:26:11.794487733Z"
    },
    "collapsed": false
   },
   "outputs": [
    {
     "data": {
      "text/plain": [
       "CollectionInfo(status=<CollectionStatus.GREEN: 'green'>, optimizer_status=<OptimizersStatusOneOf.OK: 'ok'>, vectors_count=1, indexed_vectors_count=0, points_count=1, segments_count=2, config=CollectionConfig(params=CollectionParams(vectors=VectorParams(size=1536, distance=<Distance.COSINE: 'Cosine'>, hnsw_config=None, quantization_config=None, on_disk=None), shard_number=1, sharding_method=None, replication_factor=1, write_consistency_factor=1, read_fan_out_factor=None, on_disk_payload=True, sparse_vectors=None), hnsw_config=HnswConfig(m=16, ef_construct=100, full_scan_threshold=10000, max_indexing_threads=0, on_disk=False, payload_m=None), optimizer_config=OptimizersConfig(deleted_threshold=0.2, vacuum_min_vector_number=1000, default_segment_number=0, max_segment_size=None, memmap_threshold=None, indexing_threshold=20000, flush_interval_sec=5, max_optimization_threads=1), wal_config=WalConfig(wal_capacity_mb=32, wal_segments_ahead=0), quantization_config=None), payload_schema={})"
      ]
     },
     "execution_count": 15,
     "metadata": {},
     "output_type": "execute_result"
    }
   ],
   "source": [
    "# get our collection info test if the vectors are added\n",
    "\n",
    "qdrant.get_collection(collection_name=\"my_collection\")"
   ]
  },
  {
   "cell_type": "code",
   "execution_count": 16,
   "id": "6beb498355ade602",
   "metadata": {
    "ExecuteTime": {
     "end_time": "2023-12-27T21:40:14.758862011Z",
     "start_time": "2023-12-27T21:40:14.564197009Z"
    },
    "collapsed": false
   },
   "outputs": [],
   "source": [
    "# use our vector store into a QA retrieval chain\n",
    "\n",
    "from langchain.chains import RetrievalQA\n",
    "from langchain.llms import OpenAI\n",
    "\n",
    "QA = RetrievalQA.from_chain_type(\n",
    "    llm=OpenAI(openai_api_key=OPENAI_API_KEY),\n",
    "    chain_type=\"stuff\",\n",
    "    retriever=vector_store.as_retriever(),\n",
    ")"
   ]
  },
  {
   "cell_type": "code",
   "execution_count": 19,
   "id": "f65a17fb11313f2",
   "metadata": {
    "ExecuteTime": {
     "end_time": "2023-12-27T21:40:32.727176914Z",
     "start_time": "2023-12-27T21:40:18.084699190Z"
    },
    "collapsed": false
   },
   "outputs": [
    {
     "name": "stdout",
     "output_type": "stream",
     "text": [
      " The president nominated Ketanji Brown Jackson to serve on the United States Supreme Court.\n"
     ]
    }
   ],
   "source": [
    "# ask a question\n",
    "\n",
    "query = \"What did the president say about Ketanji Brown Jackson\"\n",
    "res = QA.run(query)\n",
    "print(res)"
   ]
  },
  {
   "cell_type": "code",
   "execution_count": null,
   "id": "da19762971ba77bd",
   "metadata": {
    "collapsed": false
   },
   "outputs": [],
   "source": []
  }
 ],
 "metadata": {
  "kernelspec": {
   "display_name": "Python 3 (ipykernel)",
   "language": "python",
   "name": "python3"
  },
  "language_info": {
   "codemirror_mode": {
    "name": "ipython",
    "version": 3
   },
   "file_extension": ".py",
   "mimetype": "text/x-python",
   "name": "python",
   "nbconvert_exporter": "python",
   "pygments_lexer": "ipython3",
   "version": "3.11.6"
  }
 },
 "nbformat": 4,
 "nbformat_minor": 5
}
